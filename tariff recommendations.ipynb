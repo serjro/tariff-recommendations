{
 "cells": [
  {
   "cell_type": "markdown",
   "metadata": {},
   "source": [
    "# Рекомендация тарифов"
   ]
  },
  {
   "cell_type": "markdown",
   "metadata": {},
   "source": [
    "В вашем распоряжении данные о поведении клиентов, которые уже перешли на эти тарифы (из проекта курса «Статистический анализ данных»). Нужно построить модель для задачи классификации, которая выберет подходящий тариф. Предобработка данных не понадобится — вы её уже сделали.\n",
    "\n",
    "Постройте модель с максимально большим значением *accuracy*. Чтобы сдать проект успешно, нужно довести долю правильных ответов по крайней мере до 0.75. Проверьте *accuracy* на тестовой выборке самостоятельно."
   ]
  },
  {
   "cell_type": "markdown",
   "metadata": {},
   "source": [
    "## Открытие и изучение файлов"
   ]
  },
  {
   "cell_type": "code",
   "execution_count": 1,
   "metadata": {},
   "outputs": [],
   "source": [
    "import pandas as pd\n",
    "from sklearn.tree import DecisionTreeClassifier\n",
    "from sklearn.ensemble import RandomForestRegressor, RandomForestClassifier\n",
    "from sklearn.linear_model import LogisticRegression,LinearRegression\n",
    "from sklearn.model_selection import train_test_split, GridSearchCV\n",
    "from sklearn.metrics import mean_squared_error,accuracy_score, precision_score, recall_score\n",
    "from sklearn.preprocessing import StandardScaler\n",
    "from sklearn.dummy import DummyClassifier\n",
    "import matplotlib.pyplot as plt\n",
    "import seaborn as sns\n",
    "import numpy as np"
   ]
  },
  {
   "cell_type": "code",
   "execution_count": 71,
   "metadata": {},
   "outputs": [],
   "source": [
    "# Вывод информации о структуре датафрейма\n",
    "def df_info(df):\n",
    "    all_data = df.reset_index(drop=True)    \n",
    "    all_data_na = (all_data.isna().sum() / len(all_data))\n",
    "    missing_data = pd.DataFrame({'тип': df.dtypes})\n",
    "    if len(all_data_na[all_data_na!=0])>0:\n",
    "        missing_data['пропуски']= all_data_na.map(\"{:.1%}\".format)\n",
    "        display(missing_data)\n",
    "        print('Столбцов с NA:',len(all_data_na[all_data_na!=0]),'из',df.shape[1])\n",
    "    else:\n",
    "        display(missing_data)\n",
    "        print('Пропусков нет.') \n",
    "    if df.duplicated().sum()>0:\n",
    "        print('Дубликатов:',df.duplicated().sum())\n",
    "    else:\n",
    "        print('Дубликатов нет')\n",
    "    print(f'Структура : {all_data.shape}')"
   ]
  },
  {
   "cell_type": "code",
   "execution_count": 72,
   "metadata": {},
   "outputs": [
    {
     "data": {
      "text/html": [
       "<div>\n",
       "<style scoped>\n",
       "    .dataframe tbody tr th:only-of-type {\n",
       "        vertical-align: middle;\n",
       "    }\n",
       "\n",
       "    .dataframe tbody tr th {\n",
       "        vertical-align: top;\n",
       "    }\n",
       "\n",
       "    .dataframe thead th {\n",
       "        text-align: right;\n",
       "    }\n",
       "</style>\n",
       "<table border=\"1\" class=\"dataframe\">\n",
       "  <thead>\n",
       "    <tr style=\"text-align: right;\">\n",
       "      <th></th>\n",
       "      <th>calls</th>\n",
       "      <th>minutes</th>\n",
       "      <th>messages</th>\n",
       "      <th>mb_used</th>\n",
       "      <th>is_ultra</th>\n",
       "    </tr>\n",
       "  </thead>\n",
       "  <tbody>\n",
       "    <tr>\n",
       "      <td>0</td>\n",
       "      <td>40.0</td>\n",
       "      <td>311.90</td>\n",
       "      <td>83.0</td>\n",
       "      <td>19915.42</td>\n",
       "      <td>0</td>\n",
       "    </tr>\n",
       "    <tr>\n",
       "      <td>1</td>\n",
       "      <td>85.0</td>\n",
       "      <td>516.75</td>\n",
       "      <td>56.0</td>\n",
       "      <td>22696.96</td>\n",
       "      <td>0</td>\n",
       "    </tr>\n",
       "    <tr>\n",
       "      <td>2</td>\n",
       "      <td>77.0</td>\n",
       "      <td>467.66</td>\n",
       "      <td>86.0</td>\n",
       "      <td>21060.45</td>\n",
       "      <td>0</td>\n",
       "    </tr>\n",
       "    <tr>\n",
       "      <td>3</td>\n",
       "      <td>106.0</td>\n",
       "      <td>745.53</td>\n",
       "      <td>81.0</td>\n",
       "      <td>8437.39</td>\n",
       "      <td>1</td>\n",
       "    </tr>\n",
       "    <tr>\n",
       "      <td>4</td>\n",
       "      <td>66.0</td>\n",
       "      <td>418.74</td>\n",
       "      <td>1.0</td>\n",
       "      <td>14502.75</td>\n",
       "      <td>0</td>\n",
       "    </tr>\n",
       "  </tbody>\n",
       "</table>\n",
       "</div>"
      ],
      "text/plain": [
       "   calls  minutes  messages   mb_used  is_ultra\n",
       "0   40.0   311.90      83.0  19915.42         0\n",
       "1   85.0   516.75      56.0  22696.96         0\n",
       "2   77.0   467.66      86.0  21060.45         0\n",
       "3  106.0   745.53      81.0   8437.39         1\n",
       "4   66.0   418.74       1.0  14502.75         0"
      ]
     },
     "execution_count": 72,
     "metadata": {},
     "output_type": "execute_result"
    }
   ],
   "source": [
    "df=pd.read_csv('/datasets/users_behavior.csv')\n",
    "df.head()"
   ]
  },
  {
   "cell_type": "code",
   "execution_count": 73,
   "metadata": {},
   "outputs": [
    {
     "data": {
      "text/html": [
       "<div>\n",
       "<style scoped>\n",
       "    .dataframe tbody tr th:only-of-type {\n",
       "        vertical-align: middle;\n",
       "    }\n",
       "\n",
       "    .dataframe tbody tr th {\n",
       "        vertical-align: top;\n",
       "    }\n",
       "\n",
       "    .dataframe thead th {\n",
       "        text-align: right;\n",
       "    }\n",
       "</style>\n",
       "<table border=\"1\" class=\"dataframe\">\n",
       "  <thead>\n",
       "    <tr style=\"text-align: right;\">\n",
       "      <th></th>\n",
       "      <th>тип</th>\n",
       "    </tr>\n",
       "  </thead>\n",
       "  <tbody>\n",
       "    <tr>\n",
       "      <td>calls</td>\n",
       "      <td>float64</td>\n",
       "    </tr>\n",
       "    <tr>\n",
       "      <td>minutes</td>\n",
       "      <td>float64</td>\n",
       "    </tr>\n",
       "    <tr>\n",
       "      <td>messages</td>\n",
       "      <td>float64</td>\n",
       "    </tr>\n",
       "    <tr>\n",
       "      <td>mb_used</td>\n",
       "      <td>float64</td>\n",
       "    </tr>\n",
       "    <tr>\n",
       "      <td>is_ultra</td>\n",
       "      <td>int64</td>\n",
       "    </tr>\n",
       "  </tbody>\n",
       "</table>\n",
       "</div>"
      ],
      "text/plain": [
       "              тип\n",
       "calls     float64\n",
       "minutes   float64\n",
       "messages  float64\n",
       "mb_used   float64\n",
       "is_ultra    int64"
      ]
     },
     "metadata": {},
     "output_type": "display_data"
    },
    {
     "name": "stdout",
     "output_type": "stream",
     "text": [
      "Пропусков нет.\n",
      "Дубликатов нет\n",
      "Структура : (3214, 5)\n"
     ]
    }
   ],
   "source": [
    "df_info(df)"
   ]
  },
  {
   "cell_type": "code",
   "execution_count": 74,
   "metadata": {},
   "outputs": [
    {
     "data": {
      "text/html": [
       "<div>\n",
       "<style scoped>\n",
       "    .dataframe tbody tr th:only-of-type {\n",
       "        vertical-align: middle;\n",
       "    }\n",
       "\n",
       "    .dataframe tbody tr th {\n",
       "        vertical-align: top;\n",
       "    }\n",
       "\n",
       "    .dataframe thead th {\n",
       "        text-align: right;\n",
       "    }\n",
       "</style>\n",
       "<table border=\"1\" class=\"dataframe\">\n",
       "  <thead>\n",
       "    <tr style=\"text-align: right;\">\n",
       "      <th></th>\n",
       "      <th>calls</th>\n",
       "      <th>minutes</th>\n",
       "      <th>messages</th>\n",
       "      <th>mb_used</th>\n",
       "      <th>is_ultra</th>\n",
       "    </tr>\n",
       "  </thead>\n",
       "  <tbody>\n",
       "    <tr>\n",
       "      <td>count</td>\n",
       "      <td>3214.000000</td>\n",
       "      <td>3214.000000</td>\n",
       "      <td>3214.000000</td>\n",
       "      <td>3214.000000</td>\n",
       "      <td>3214.000000</td>\n",
       "    </tr>\n",
       "    <tr>\n",
       "      <td>mean</td>\n",
       "      <td>63.038892</td>\n",
       "      <td>438.208787</td>\n",
       "      <td>38.281269</td>\n",
       "      <td>17207.673836</td>\n",
       "      <td>0.306472</td>\n",
       "    </tr>\n",
       "    <tr>\n",
       "      <td>std</td>\n",
       "      <td>33.236368</td>\n",
       "      <td>234.569872</td>\n",
       "      <td>36.148326</td>\n",
       "      <td>7570.968246</td>\n",
       "      <td>0.461100</td>\n",
       "    </tr>\n",
       "    <tr>\n",
       "      <td>min</td>\n",
       "      <td>0.000000</td>\n",
       "      <td>0.000000</td>\n",
       "      <td>0.000000</td>\n",
       "      <td>0.000000</td>\n",
       "      <td>0.000000</td>\n",
       "    </tr>\n",
       "    <tr>\n",
       "      <td>25%</td>\n",
       "      <td>40.000000</td>\n",
       "      <td>274.575000</td>\n",
       "      <td>9.000000</td>\n",
       "      <td>12491.902500</td>\n",
       "      <td>0.000000</td>\n",
       "    </tr>\n",
       "    <tr>\n",
       "      <td>50%</td>\n",
       "      <td>62.000000</td>\n",
       "      <td>430.600000</td>\n",
       "      <td>30.000000</td>\n",
       "      <td>16943.235000</td>\n",
       "      <td>0.000000</td>\n",
       "    </tr>\n",
       "    <tr>\n",
       "      <td>75%</td>\n",
       "      <td>82.000000</td>\n",
       "      <td>571.927500</td>\n",
       "      <td>57.000000</td>\n",
       "      <td>21424.700000</td>\n",
       "      <td>1.000000</td>\n",
       "    </tr>\n",
       "    <tr>\n",
       "      <td>max</td>\n",
       "      <td>244.000000</td>\n",
       "      <td>1632.060000</td>\n",
       "      <td>224.000000</td>\n",
       "      <td>49745.730000</td>\n",
       "      <td>1.000000</td>\n",
       "    </tr>\n",
       "  </tbody>\n",
       "</table>\n",
       "</div>"
      ],
      "text/plain": [
       "             calls      minutes     messages       mb_used     is_ultra\n",
       "count  3214.000000  3214.000000  3214.000000   3214.000000  3214.000000\n",
       "mean     63.038892   438.208787    38.281269  17207.673836     0.306472\n",
       "std      33.236368   234.569872    36.148326   7570.968246     0.461100\n",
       "min       0.000000     0.000000     0.000000      0.000000     0.000000\n",
       "25%      40.000000   274.575000     9.000000  12491.902500     0.000000\n",
       "50%      62.000000   430.600000    30.000000  16943.235000     0.000000\n",
       "75%      82.000000   571.927500    57.000000  21424.700000     1.000000\n",
       "max     244.000000  1632.060000   224.000000  49745.730000     1.000000"
      ]
     },
     "execution_count": 74,
     "metadata": {},
     "output_type": "execute_result"
    }
   ],
   "source": [
    "df.describe()"
   ]
  },
  {
   "cell_type": "markdown",
   "metadata": {},
   "source": [
    "## Разбиение данных на выборки"
   ]
  },
  {
   "cell_type": "code",
   "execution_count": 75,
   "metadata": {},
   "outputs": [],
   "source": [
    "features = df.drop('is_ultra',axis=1)\n",
    "target = df['is_ultra']\n",
    "\n",
    "features_train, features_valid, target_train, target_valid = train_test_split(features, target, test_size=0.4,\\\n",
    "                                                                              random_state=12345, stratify=target)\n",
    "features_valid, features_test, target_valid, target_test = train_test_split(features_valid, target_valid, test_size=0.5,\\\n",
    "                                                                              random_state=12345, stratify=target_valid)"
   ]
  },
  {
   "cell_type": "code",
   "execution_count": 153,
   "metadata": {},
   "outputs": [
    {
     "name": "stdout",
     "output_type": "stream",
     "text": [
      "Размер обучающей выборки: (1928, 4)\n",
      "Размер валидационной выборки: (643, 4)\n",
      "Размер тестовой выборки: (643, 4)\n"
     ]
    }
   ],
   "source": [
    "print(f'Размер обучающей выборки: {features_train.shape}')\n",
    "print(f'Размер валидационной выборки: {features_valid.shape}')\n",
    "print(f'Размер тестовой выборки: {features_test.shape}')"
   ]
  },
  {
   "cell_type": "markdown",
   "metadata": {},
   "source": [
    "## Исследование модели"
   ]
  },
  {
   "cell_type": "markdown",
   "metadata": {},
   "source": [
    "Расмотрим точность трех моделей обученных на тестовой выборке:\n",
    "    \n",
    "Логистическая регрессия."
   ]
  },
  {
   "cell_type": "code",
   "execution_count": 94,
   "metadata": {},
   "outputs": [
    {
     "name": "stdout",
     "output_type": "stream",
     "text": [
      "Best score: 0.7387247278382582\n"
     ]
    }
   ],
   "source": [
    "logic_model = LogisticRegression(random_state=12345, solver='lbfgs') \n",
    "logic_model.fit(features_train,target_train) \n",
    "result = accuracy_score(target_valid,logic_model.predict(features_valid))\n",
    "print('Accuracy:',result)"
   ]
  },
  {
   "cell_type": "markdown",
   "metadata": {},
   "source": [
    "Дерево решений"
   ]
  },
  {
   "cell_type": "code",
   "execution_count": 101,
   "metadata": {},
   "outputs": [
    {
     "name": "stdout",
     "output_type": "stream",
     "text": [
      "Best score: 0.7013996889580093\n"
     ]
    }
   ],
   "source": [
    "dtc = DecisionTreeClassifier(random_state=12345)\n",
    "dtc.fit(features_train,target_train) \n",
    "result = accuracy_score(target_valid,dtc.predict(features_valid))\n",
    "print(\"Accuracy:\", result)"
   ]
  },
  {
   "cell_type": "markdown",
   "metadata": {},
   "source": [
    "Случайный лес"
   ]
  },
  {
   "cell_type": "code",
   "execution_count": 104,
   "metadata": {},
   "outputs": [
    {
     "name": "stdout",
     "output_type": "stream",
     "text": [
      "Best score: 0.7869362363919129\n"
     ]
    }
   ],
   "source": [
    "rfc = RandomForestClassifier(random_state=12345,n_estimators=10)\n",
    "rfc.fit(features_train,target_train) \n",
    "result = accuracy_score(target_valid,rfc.predict(features_valid))\n",
    "print(\"Accuracy:\", result)"
   ]
  },
  {
   "cell_type": "markdown",
   "metadata": {},
   "source": [
    "Наибольшая точность у модели 'случайный лес'. Попробуем оптимизировать гиперпараметры модели для того чтобы улучшить качество предсказаний, выдаваемых RF-моделью. Воспользуемся алгоритмом RandomizedSearchCV, который позволяет довольно грубо исследовать широкие диапазоны значений в пользу затраченного времени. "
   ]
  },
  {
   "cell_type": "code",
   "execution_count": 50,
   "metadata": {
    "scrolled": true
   },
   "outputs": [
    {
     "name": "stdout",
     "output_type": "stream",
     "text": [
      "Fitting 3 folds for each of 100 candidates, totalling 300 fits\n"
     ]
    },
    {
     "name": "stderr",
     "output_type": "stream",
     "text": [
      "[Parallel(n_jobs=-1)]: Using backend SequentialBackend with 1 concurrent workers.\n",
      "[Parallel(n_jobs=-1)]: Done 300 out of 300 | elapsed:  1.5min finished\n"
     ]
    },
    {
     "data": {
      "text/plain": [
       "{'n_estimators': 203,\n",
       " 'min_samples_split': 2,\n",
       " 'min_samples_leaf': 2,\n",
       " 'max_features': 'log2',\n",
       " 'max_depth': 11,\n",
       " 'bootstrap': True}"
      ]
     },
     "execution_count": 50,
     "metadata": {},
     "output_type": "execute_result"
    }
   ],
   "source": [
    "from sklearn.model_selection import RandomizedSearchCV\n",
    "n_estimators = [int(x) for x in np.linspace(start = 10, stop = 300, num = 10)]\n",
    "max_features = ['log2', 'sqrt']\n",
    "max_depth = [int(x) for x in np.linspace(start = 1, stop = 15, num = 15)]\n",
    "min_samples_split = [int(x) for x in np.linspace(start = 2, stop = 50, num = 10)]\n",
    "min_samples_leaf = [int(x) for x in np.linspace(start = 2, stop = 50, num = 10)]\n",
    "bootstrap = [True, False]\n",
    "rfc = RandomForestClassifier()\n",
    "param_dist = {'n_estimators': n_estimators,\n",
    "               'max_features': max_features,\n",
    "               'max_depth': max_depth,\n",
    "               'min_samples_split': min_samples_split,\n",
    "               'min_samples_leaf': min_samples_leaf,\n",
    "               'bootstrap': bootstrap}\n",
    "rs = RandomizedSearchCV(rfc, \n",
    "                        param_dist, \n",
    "                        n_iter = 100, \n",
    "                        cv = 3, \n",
    "                        verbose = 1, \n",
    "                        n_jobs=-1, \n",
    "                        random_state=0)\n",
    "rs.fit(features_train,target_train)\n",
    "rs.best_params_"
   ]
  },
  {
   "cell_type": "markdown",
   "metadata": {},
   "source": [
    "Проверим оптимизированные параметры и посчитаем точность."
   ]
  },
  {
   "cell_type": "code",
   "execution_count": 107,
   "metadata": {},
   "outputs": [
    {
     "name": "stdout",
     "output_type": "stream",
     "text": [
      "Best score: 0.8180404354587869\n"
     ]
    }
   ],
   "source": [
    "model = RandomForestClassifier(random_state=12345,n_estimators=203,min_samples_split=2,min_samples_leaf=2,max_features='log2',max_depth=11,bootstrap=True)\n",
    "model.fit(features_train,target_train) \n",
    "result = accuracy_score(target_valid,model.predict(features_valid))\n",
    "print('Accuracy:',result)"
   ]
  },
  {
   "cell_type": "markdown",
   "metadata": {},
   "source": [
    "Оптимизация гиперпараметров позволила заметно поднять точность предсказаний.\n",
    "\n",
    "Теперь создадим столбчатые графики, на которых, по оси Х, расположены значения гиперпараметров, а по оси Y — средние значения, показываемые моделями. Это позволит понять то, какие значения гиперпараметров, в среднем, лучше всего себя показывают."
   ]
  },
  {
   "cell_type": "code",
   "execution_count": 51,
   "metadata": {},
   "outputs": [
    {
     "data": {
      "text/html": [
       "<div>\n",
       "<style scoped>\n",
       "    .dataframe tbody tr th:only-of-type {\n",
       "        vertical-align: middle;\n",
       "    }\n",
       "\n",
       "    .dataframe tbody tr th {\n",
       "        vertical-align: top;\n",
       "    }\n",
       "\n",
       "    .dataframe thead th {\n",
       "        text-align: right;\n",
       "    }\n",
       "</style>\n",
       "<table border=\"1\" class=\"dataframe\">\n",
       "  <thead>\n",
       "    <tr style=\"text-align: right;\">\n",
       "      <th></th>\n",
       "      <th>param_n_estimators</th>\n",
       "      <th>param_min_samples_split</th>\n",
       "      <th>param_min_samples_leaf</th>\n",
       "      <th>param_max_features</th>\n",
       "      <th>param_max_depth</th>\n",
       "      <th>param_bootstrap</th>\n",
       "      <th>mean_test_score</th>\n",
       "      <th>rank_test_score</th>\n",
       "    </tr>\n",
       "  </thead>\n",
       "  <tbody>\n",
       "    <tr>\n",
       "      <td>0</td>\n",
       "      <td>203</td>\n",
       "      <td>2</td>\n",
       "      <td>2</td>\n",
       "      <td>log2</td>\n",
       "      <td>11</td>\n",
       "      <td>True</td>\n",
       "      <td>0.792531</td>\n",
       "      <td>1</td>\n",
       "    </tr>\n",
       "    <tr>\n",
       "      <td>1</td>\n",
       "      <td>300</td>\n",
       "      <td>12</td>\n",
       "      <td>7</td>\n",
       "      <td>sqrt</td>\n",
       "      <td>10</td>\n",
       "      <td>True</td>\n",
       "      <td>0.790975</td>\n",
       "      <td>2</td>\n",
       "    </tr>\n",
       "    <tr>\n",
       "      <td>2</td>\n",
       "      <td>300</td>\n",
       "      <td>44</td>\n",
       "      <td>2</td>\n",
       "      <td>sqrt</td>\n",
       "      <td>9</td>\n",
       "      <td>True</td>\n",
       "      <td>0.790975</td>\n",
       "      <td>2</td>\n",
       "    </tr>\n",
       "    <tr>\n",
       "      <td>3</td>\n",
       "      <td>171</td>\n",
       "      <td>39</td>\n",
       "      <td>34</td>\n",
       "      <td>log2</td>\n",
       "      <td>13</td>\n",
       "      <td>True</td>\n",
       "      <td>0.789419</td>\n",
       "      <td>4</td>\n",
       "    </tr>\n",
       "    <tr>\n",
       "      <td>4</td>\n",
       "      <td>203</td>\n",
       "      <td>18</td>\n",
       "      <td>7</td>\n",
       "      <td>sqrt</td>\n",
       "      <td>7</td>\n",
       "      <td>False</td>\n",
       "      <td>0.788382</td>\n",
       "      <td>5</td>\n",
       "    </tr>\n",
       "    <tr>\n",
       "      <td>5</td>\n",
       "      <td>203</td>\n",
       "      <td>23</td>\n",
       "      <td>7</td>\n",
       "      <td>log2</td>\n",
       "      <td>15</td>\n",
       "      <td>False</td>\n",
       "      <td>0.788382</td>\n",
       "      <td>5</td>\n",
       "    </tr>\n",
       "    <tr>\n",
       "      <td>6</td>\n",
       "      <td>235</td>\n",
       "      <td>23</td>\n",
       "      <td>34</td>\n",
       "      <td>log2</td>\n",
       "      <td>15</td>\n",
       "      <td>True</td>\n",
       "      <td>0.788382</td>\n",
       "      <td>5</td>\n",
       "    </tr>\n",
       "    <tr>\n",
       "      <td>7</td>\n",
       "      <td>42</td>\n",
       "      <td>50</td>\n",
       "      <td>28</td>\n",
       "      <td>sqrt</td>\n",
       "      <td>9</td>\n",
       "      <td>True</td>\n",
       "      <td>0.787863</td>\n",
       "      <td>8</td>\n",
       "    </tr>\n",
       "    <tr>\n",
       "      <td>8</td>\n",
       "      <td>106</td>\n",
       "      <td>23</td>\n",
       "      <td>2</td>\n",
       "      <td>sqrt</td>\n",
       "      <td>14</td>\n",
       "      <td>False</td>\n",
       "      <td>0.787863</td>\n",
       "      <td>8</td>\n",
       "    </tr>\n",
       "    <tr>\n",
       "      <td>9</td>\n",
       "      <td>74</td>\n",
       "      <td>28</td>\n",
       "      <td>7</td>\n",
       "      <td>log2</td>\n",
       "      <td>13</td>\n",
       "      <td>True</td>\n",
       "      <td>0.786826</td>\n",
       "      <td>10</td>\n",
       "    </tr>\n",
       "  </tbody>\n",
       "</table>\n",
       "</div>"
      ],
      "text/plain": [
       "  param_n_estimators param_min_samples_split param_min_samples_leaf  \\\n",
       "0                203                       2                      2   \n",
       "1                300                      12                      7   \n",
       "2                300                      44                      2   \n",
       "3                171                      39                     34   \n",
       "4                203                      18                      7   \n",
       "5                203                      23                      7   \n",
       "6                235                      23                     34   \n",
       "7                 42                      50                     28   \n",
       "8                106                      23                      2   \n",
       "9                 74                      28                      7   \n",
       "\n",
       "  param_max_features param_max_depth param_bootstrap  mean_test_score  \\\n",
       "0               log2              11            True         0.792531   \n",
       "1               sqrt              10            True         0.790975   \n",
       "2               sqrt               9            True         0.790975   \n",
       "3               log2              13            True         0.789419   \n",
       "4               sqrt               7           False         0.788382   \n",
       "5               log2              15           False         0.788382   \n",
       "6               log2              15            True         0.788382   \n",
       "7               sqrt               9            True         0.787863   \n",
       "8               sqrt              14           False         0.787863   \n",
       "9               log2              13            True         0.786826   \n",
       "\n",
       "   rank_test_score  \n",
       "0                1  \n",
       "1                2  \n",
       "2                2  \n",
       "3                4  \n",
       "4                5  \n",
       "5                5  \n",
       "6                5  \n",
       "7                8  \n",
       "8                8  \n",
       "9               10  "
      ]
     },
     "execution_count": 51,
     "metadata": {},
     "output_type": "execute_result"
    }
   ],
   "source": [
    "rs_df = pd.DataFrame(rs.cv_results_).sort_values('rank_test_score').reset_index(drop=True)\n",
    "rs_df = rs_df.drop([\n",
    "            'mean_fit_time', \n",
    "            'std_fit_time', \n",
    "            'mean_score_time',\n",
    "            'std_score_time', \n",
    "            'params', \n",
    "            'split0_test_score', \n",
    "            'split1_test_score', \n",
    "            'split2_test_score', \n",
    "            'std_test_score'],\n",
    "            axis=1)\n",
    "rs_df.head(10)"
   ]
  },
  {
   "cell_type": "code",
   "execution_count": 66,
   "metadata": {},
   "outputs": [
    {
     "data": {
      "image/png": "[encoded data removed]",
      "text/plain": [
       "<Figure size 2160x1800 with 6 Axes>"
      ]
     },
     "metadata": {},
     "output_type": "display_data"
    }
   ],
   "source": [
    "fig, axs = plt.subplots(ncols=3, nrows=2)\n",
    "sns.set(style=\"whitegrid\", color_codes=True, font_scale = 2)\n",
    "fig.set_size_inches(30,25)\n",
    "sns.barplot(x='param_n_estimators', y='mean_test_score', data=rs_df, ax=axs[0,0], color='lightgrey')\n",
    "axs[0,0].set_ylim([.76,.79])\n",
    "axs[0,0].set_title(label = 'n_estimators', size=30, weight='bold')\n",
    "sns.barplot(x='param_min_samples_split', y='mean_test_score', data=rs_df, ax=axs[0,1], color='coral')\n",
    "axs[0,1].set_ylim([.77,.79])\n",
    "axs[0,1].set_title(label = 'min_samples_split', size=30, weight='bold')\n",
    "sns.barplot(x='param_min_samples_leaf', y='mean_test_score', data=rs_df, ax=axs[0,2], color='lightgreen')\n",
    "axs[0,2].set_ylim([.76,.79])\n",
    "axs[0,2].set_title(label = 'min_samples_leaf', size=30, weight='bold')\n",
    "sns.barplot(x='param_max_features', y='mean_test_score', data=rs_df, ax=axs[1,0], color='wheat')\n",
    "axs[1,0].set_ylim([.77,.79])\n",
    "axs[1,0].set_title(label = 'max_features', size=30, weight='bold')\n",
    "sns.barplot(x='param_max_depth', y='mean_test_score', data=rs_df, ax=axs[1,1], color='lightpink')\n",
    "axs[1,1].set_ylim([.77,.79])\n",
    "axs[1,1].set_title(label = 'max_depth', size=30, weight='bold')\n",
    "sns.barplot(x='param_bootstrap',y='mean_test_score', data=rs_df, ax=axs[1,2], color='skyblue')\n",
    "axs[1,2].set_ylim([.75,.80])\n",
    "axs[1,2].set_title(label = 'bootstrap', size=30, weight='bold')\n",
    "plt.show()"
   ]
  },
  {
   "cell_type": "markdown",
   "metadata": {},
   "source": [
    "Изучив графики выше, можно сделать вывод, что одним из лучших параметров для модели RandomForestClassifier будет:\n",
    "\n",
    "    n_estimators: 74, 203\n",
    "    min_samples_split: 23\n",
    "    min_samples_leaf: 7\n",
    "    max_features: 'log2'\n",
    "    max_depth: 11, 15\n",
    "    bootstrap: True"
   ]
  },
  {
   "cell_type": "code",
   "execution_count": 145,
   "metadata": {},
   "outputs": [
    {
     "name": "stdout",
     "output_type": "stream",
     "text": [
      "Accuracy: 0.8164852255054432\n"
     ]
    }
   ],
   "source": [
    "model = RandomForestClassifier(random_state=12345,n_estimators=74,min_samples_split=23,min_samples_leaf=7,max_features='log2',max_depth=15,bootstrap=True)\n",
    "model.fit(features_train,target_train) \n",
    "result = accuracy_score(target_valid,model.predict(features_valid))\n",
    "print('Accuracy:',result)"
   ]
  },
  {
   "cell_type": "markdown",
   "metadata": {},
   "source": [
    "Точность идентична расчитанной методом RandomizedSearchCV, что подтверждают наши наблюдения."
   ]
  },
  {
   "cell_type": "markdown",
   "metadata": {},
   "source": [
    "Проверим, как эти значяения могут повлиять на точность."
   ]
  },
  {
   "cell_type": "code",
   "execution_count": 28,
   "metadata": {},
   "outputs": [
    {
     "data": {
      "image/png": "[encoded data removed]",
      "text/plain": [
       "<Figure size 2160x504 with 1 Axes>"
      ]
     },
     "metadata": {},
     "output_type": "display_data"
    },
    {
     "data": {
      "text/plain": [
       "None"
      ]
     },
     "metadata": {},
     "output_type": "display_data"
    },
    {
     "data": {
      "text/html": [
       "<div>\n",
       "<style scoped>\n",
       "    .dataframe tbody tr th:only-of-type {\n",
       "        vertical-align: middle;\n",
       "    }\n",
       "\n",
       "    .dataframe tbody tr th {\n",
       "        vertical-align: top;\n",
       "    }\n",
       "\n",
       "    .dataframe thead th {\n",
       "        text-align: right;\n",
       "    }\n",
       "</style>\n",
       "<table border=\"1\" class=\"dataframe\">\n",
       "  <thead>\n",
       "    <tr style=\"text-align: right;\">\n",
       "      <th></th>\n",
       "      <th>Features</th>\n",
       "      <th>Gini-Importance</th>\n",
       "    </tr>\n",
       "  </thead>\n",
       "  <tbody>\n",
       "    <tr>\n",
       "      <td>0</td>\n",
       "      <td>mb_used</td>\n",
       "      <td>0.366077</td>\n",
       "    </tr>\n",
       "    <tr>\n",
       "      <td>1</td>\n",
       "      <td>minutes</td>\n",
       "      <td>0.244196</td>\n",
       "    </tr>\n",
       "    <tr>\n",
       "      <td>2</td>\n",
       "      <td>messages</td>\n",
       "      <td>0.206532</td>\n",
       "    </tr>\n",
       "    <tr>\n",
       "      <td>3</td>\n",
       "      <td>calls</td>\n",
       "      <td>0.183195</td>\n",
       "    </tr>\n",
       "  </tbody>\n",
       "</table>\n",
       "</div>"
      ],
      "text/plain": [
       "   Features  Gini-Importance\n",
       "0   mb_used         0.366077\n",
       "1   minutes         0.244196\n",
       "2  messages         0.206532\n",
       "3     calls         0.183195"
      ]
     },
     "metadata": {},
     "output_type": "display_data"
    }
   ],
   "source": [
    "feats = {}\n",
    "for feature, importance in zip(df.columns, model.feature_importances_):\n",
    "    feats[feature] = importance\n",
    "importances = pd.DataFrame.from_dict(feats, orient='index').rename(columns={0: 'Gini-Importance'})\n",
    "importances = importances.sort_values(by='Gini-Importance', ascending=False)\n",
    "importances = importances.reset_index()\n",
    "importances = importances.rename(columns={'index': 'Features'})\n",
    "sns.set(font_scale = 5)\n",
    "sns.set(style=\"whitegrid\", color_codes=True, font_scale = 1.7)\n",
    "fig, ax = plt.subplots()\n",
    "fig.set_size_inches(30,7)\n",
    "sns.barplot(x=importances['Gini-Importance'], y=importances['Features'], data=importances, color='skyblue')\n",
    "plt.xlabel('Importance', fontsize=25, weight = 'bold')\n",
    "plt.ylabel('Features', fontsize=25, weight = 'bold')\n",
    "plt.title('Feature Importance', fontsize=25, weight = 'bold')\n",
    "display(plt.show())\n",
    "display(importances)"
   ]
  },
  {
   "cell_type": "markdown",
   "metadata": {},
   "source": [
    "Самым важным признаком является количество использованных мегабайт, а самым не значимым количество звонков."
   ]
  },
  {
   "cell_type": "markdown",
   "metadata": {},
   "source": [
    "После применения алгоритма RandomizedSearchCV воспользуемся алгоритмом GridSearchCV для проведения более точного поиска наилучшей комбинации гиперпараметров. Здесь исследуются те же гиперпараметры, но теперь мы применяем более «обстоятельный» поиск их наилучшей комбинации."
   ]
  },
  {
   "cell_type": "code",
   "execution_count": null,
   "metadata": {},
   "outputs": [],
   "source": [
    "# Алгоритм GridSearchCV ниже закоментирован, т.к расчет оптимальных параметров уже проведен и подставален в параметры модели\n",
    "'''params = {\n",
    "    'max_depth': list(range(5, 40,1)),\n",
    "    'n_estimators': list(range(1, 40,1)),\n",
    "    'bootstrap': [True, False]\n",
    "}\n",
    "\n",
    "# воспользуемся GridSearchCV для поиска наилучших гиперпараметров\n",
    "random_forest_model = GridSearchCV(RandomForestClassifier(random_state=12345, n_jobs=-1), params, cv=5, n_jobs=-1, verbose=10)\n",
    "random_forest_model.fit(features_train, target_train)\n",
    "print(f'Параметры наилучшей модели: {random_forest_model.best_params_}')\n",
    "print(f'Accuracy: {random_forest_model.best_score_}')'''"
   ]
  },
  {
   "cell_type": "code",
   "execution_count": 144,
   "metadata": {},
   "outputs": [
    {
     "name": "stdout",
     "output_type": "stream",
     "text": [
      "Accuracy: 0.8087091757387247\n"
     ]
    }
   ],
   "source": [
    "random_forest_model = RandomForestClassifier(random_state=12345, n_estimators=35, max_depth=11,bootstrap=True)\n",
    "random_forest_model.fit(features_train,target_train) \n",
    "pred=random_forest_model.predict(features_valid)\n",
    "result = accuracy_score(target_valid,pred)\n",
    "print('Accuracy:',result)"
   ]
  },
  {
   "cell_type": "markdown",
   "metadata": {},
   "source": [
    "Алгоритм GridSearchCV не значительно отличается по точности предсказаний."
   ]
  },
  {
   "cell_type": "code",
   "execution_count": 147,
   "metadata": {},
   "outputs": [
    {
     "name": "stdout",
     "output_type": "stream",
     "text": [
      "Accuracy: 0.82\n",
      "Precision: 0.80\n",
      "Recall: 0.54\n",
      "MSE: 0.18\n"
     ]
    }
   ],
   "source": [
    "result = accuracy_score(target_valid,model.predict(features_valid))\n",
    "pred=model.predict(features_valid)\n",
    "print(f'Accuracy: {accuracy_score(target_valid, pred):.2f}')\n",
    "print(f'Precision: {precision_score(target_valid, pred):.2f}')\n",
    "print(f'Recall: {recall_score(target_valid, pred):.2f}')\n",
    "print(f'MSE: {mean_squared_error(target_valid, pred):.2f}')"
   ]
  },
  {
   "cell_type": "markdown",
   "metadata": {},
   "source": [
    "## Проверка модели на тестовой выборке"
   ]
  },
  {
   "cell_type": "code",
   "execution_count": 149,
   "metadata": {},
   "outputs": [
    {
     "name": "stdout",
     "output_type": "stream",
     "text": [
      "Accuracy: 0.81\n"
     ]
    }
   ],
   "source": [
    "pred = model.predict(features_test)\n",
    "print(f'Accuracy: {accuracy_score(target_test, pred):.2f}')"
   ]
  },
  {
   "cell_type": "markdown",
   "metadata": {},
   "source": [
    "81% правильных ответов."
   ]
  },
  {
   "cell_type": "markdown",
   "metadata": {},
   "source": [
    "## Проверка модели на адекватность"
   ]
  },
  {
   "cell_type": "code",
   "execution_count": 140,
   "metadata": {},
   "outputs": [
    {
     "data": {
      "text/plain": [
       "0    0.693528\n",
       "1    0.306472\n",
       "Name: is_ultra, dtype: float64"
      ]
     },
     "execution_count": 140,
     "metadata": {},
     "output_type": "execute_result"
    }
   ],
   "source": [
    "df['is_ultra'].value_counts(normalize=True)"
   ]
  },
  {
   "cell_type": "markdown",
   "metadata": {},
   "source": [
    "Доля большего класса тестовой выборки равна ~0.69 (Смарт); полученная нами модель имеет accuracy ~0.82. Таким образом, мы можем считать модель адекватной для использования."
   ]
  },
  {
   "cell_type": "code",
   "execution_count": 161,
   "metadata": {},
   "outputs": [
    {
     "name": "stdout",
     "output_type": "stream",
     "text": [
      "Accuracy 0.6936236391912908\n"
     ]
    }
   ],
   "source": [
    "model = DummyClassifier(strategy = 'most_frequent', random_state = 12345) \n",
    "model.fit(features_train,target_train)\n",
    "print('Accuracy', accuracy_score(target_valid,model.predict(features_valid)))"
   ]
  },
  {
   "cell_type": "markdown",
   "metadata": {},
   "source": [
    "**Вывод:**\n",
    "\n",
    "В ходе исследования мы обучили и проверили точность трех моделей:\n",
    "\n",
    "    - Дерево решений\n",
    "    - Случайный лес\n",
    "    - Логистическая регрессия\n",
    "\n",
    "Для решения задачи классификации пользователей по тарифам Smart и Ultra предлагается использовать модель RandomForestClassifier с параметрами: \n",
    "\n",
    "\n",
    "    n_estimators: 74, 203\n",
    "    min_samples_split: 23\n",
    "    min_samples_leaf: 7\n",
    "    max_features: 'log2'\n",
    "    max_depth: 11, 15\n",
    "    bootstrap: True\n",
    "с данными параметрами модель обладает высоким показателем Accuracy и Recall т.е. наиболее точно классифицирует пользователей при низкой среднеквадратичной ошибке.\n",
    "\n",
    "Точность итоговой модели составляет: **0.82**"
   ]
  }
 ],
 "metadata": {
  "ExecuteTimeLog": [
   {
    "duration": 1066,
    "start_time": "2022-03-08T09:30:58.235Z"
   },
   {
    "duration": 31,
    "start_time": "2022-03-08T09:31:00.530Z"
   },
   {
    "duration": 19,
    "start_time": "2022-03-08T09:31:17.555Z"
   },
   {
    "duration": 6,
    "start_time": "2022-03-08T09:32:16.946Z"
   },
   {
    "duration": 18,
    "start_time": "2022-03-08T09:32:18.194Z"
   },
   {
    "duration": 8,
    "start_time": "2022-03-08T09:32:30.210Z"
   },
   {
    "duration": 16,
    "start_time": "2022-03-08T09:33:20.569Z"
   },
   {
    "duration": 22,
    "start_time": "2022-03-08T09:38:42.479Z"
   },
   {
    "duration": 7,
    "start_time": "2022-03-08T09:49:57.690Z"
   },
   {
    "duration": 4626,
    "start_time": "2022-03-08T09:49:58.803Z"
   },
   {
    "duration": 24,
    "start_time": "2022-03-08T10:23:09.276Z"
   },
   {
    "duration": 80,
    "start_time": "2022-03-08T10:29:28.992Z"
   },
   {
    "duration": 83,
    "start_time": "2022-03-08T10:31:07.400Z"
   },
   {
    "duration": 302,
    "start_time": "2022-03-08T10:31:16.583Z"
   },
   {
    "duration": 3,
    "start_time": "2022-03-08T10:31:53.768Z"
   },
   {
    "duration": 75882,
    "start_time": "2022-03-08T10:33:16.864Z"
   },
   {
    "duration": 4703,
    "start_time": "2022-03-08T10:34:50.910Z"
   },
   {
    "duration": 10,
    "start_time": "2022-03-08T10:45:33.904Z"
   },
   {
    "duration": 3953,
    "start_time": "2022-03-08T10:45:46.177Z"
   },
   {
    "duration": 241,
    "start_time": "2022-03-08T10:46:28.849Z"
   },
   {
    "duration": 3,
    "start_time": "2022-03-08T10:47:24.257Z"
   },
   {
    "duration": 10,
    "start_time": "2022-03-08T10:47:30.449Z"
   },
   {
    "duration": 1184,
    "start_time": "2022-03-10T08:30:04.760Z"
   },
   {
    "duration": 5,
    "start_time": "2022-03-10T08:30:05.946Z"
   },
   {
    "duration": 41,
    "start_time": "2022-03-10T08:30:05.954Z"
   },
   {
    "duration": 16,
    "start_time": "2022-03-10T08:30:08.157Z"
   },
   {
    "duration": 25,
    "start_time": "2022-03-10T08:30:08.816Z"
   },
   {
    "duration": 11,
    "start_time": "2022-03-10T08:30:10.950Z"
   },
   {
    "duration": 12,
    "start_time": "2022-03-10T08:30:13.268Z"
   },
   {
    "duration": 4460,
    "start_time": "2022-03-10T08:30:18.214Z"
   },
   {
    "duration": 372,
    "start_time": "2022-03-10T08:30:39.070Z"
   },
   {
    "duration": 126565,
    "start_time": "2022-03-10T08:32:13.634Z"
   },
   {
    "duration": 284,
    "start_time": "2022-03-10T08:34:56.059Z"
   },
   {
    "duration": 89621,
    "start_time": "2022-03-10T08:35:42.195Z"
   },
   {
    "duration": 273158,
    "start_time": "2022-03-10T08:37:22.509Z"
   },
   {
    "duration": 124,
    "start_time": "2022-03-10T08:45:11.725Z"
   },
   {
    "duration": 380,
    "start_time": "2022-03-10T08:46:10.269Z"
   },
   {
    "duration": 376,
    "start_time": "2022-03-10T08:46:14.134Z"
   },
   {
    "duration": 432,
    "start_time": "2022-03-10T08:46:18.046Z"
   },
   {
    "duration": 384,
    "start_time": "2022-03-10T08:47:34.493Z"
   },
   {
    "duration": 134,
    "start_time": "2022-03-10T08:48:16.348Z"
   },
   {
    "duration": 148,
    "start_time": "2022-03-10T08:48:38.213Z"
   },
   {
    "duration": 47,
    "start_time": "2022-03-10T08:51:01.739Z"
   },
   {
    "duration": 280,
    "start_time": "2022-03-10T08:57:20.448Z"
   },
   {
    "duration": 134,
    "start_time": "2022-03-10T08:58:01.529Z"
   },
   {
    "duration": 360,
    "start_time": "2022-03-10T08:59:23.920Z"
   },
   {
    "duration": 4,
    "start_time": "2022-03-10T08:59:41.784Z"
   },
   {
    "duration": 838,
    "start_time": "2022-03-10T08:59:45.361Z"
   },
   {
    "duration": 686,
    "start_time": "2022-03-10T09:01:22.416Z"
   },
   {
    "duration": 605,
    "start_time": "2022-03-10T09:01:30.672Z"
   },
   {
    "duration": 47,
    "start_time": "2022-03-10T09:06:58.572Z"
   },
   {
    "duration": 271,
    "start_time": "2022-03-10T09:08:23.116Z"
   },
   {
    "duration": 272,
    "start_time": "2022-03-10T09:10:01.284Z"
   },
   {
    "duration": 4,
    "start_time": "2022-03-10T09:10:20.252Z"
   },
   {
    "duration": 272,
    "start_time": "2022-03-10T09:10:25.452Z"
   },
   {
    "duration": 266,
    "start_time": "2022-03-10T09:11:45.195Z"
   },
   {
    "duration": 259,
    "start_time": "2022-03-10T09:12:19.083Z"
   },
   {
    "duration": 10,
    "start_time": "2022-03-10T09:13:23.058Z"
   },
   {
    "duration": 12,
    "start_time": "2022-03-10T09:13:39.129Z"
   },
   {
    "duration": 11,
    "start_time": "2022-03-10T09:13:40.946Z"
   },
   {
    "duration": 33,
    "start_time": "2022-03-10T09:15:24.551Z"
   },
   {
    "duration": 409,
    "start_time": "2022-03-10T09:15:56.064Z"
   },
   {
    "duration": 50,
    "start_time": "2022-03-10T09:16:02.272Z"
   },
   {
    "duration": 408,
    "start_time": "2022-03-10T09:43:03.047Z"
   },
   {
    "duration": 367,
    "start_time": "2022-03-10T09:43:39.600Z"
   },
   {
    "duration": 280,
    "start_time": "2022-03-10T09:48:27.500Z"
   },
   {
    "duration": 338,
    "start_time": "2022-03-10T09:50:21.651Z"
   },
   {
    "duration": 313817,
    "start_time": "2022-03-10T09:50:52.282Z"
   },
   {
    "duration": 104166,
    "start_time": "2022-03-10T09:56:06.101Z"
   },
   {
    "duration": 53390,
    "start_time": "2022-03-10T09:57:50.270Z"
   },
   {
    "duration": 37494,
    "start_time": "2022-03-10T10:04:41.260Z"
   },
   {
    "duration": 88008,
    "start_time": "2022-03-10T10:06:32.846Z"
   },
   {
    "duration": 19,
    "start_time": "2022-03-10T10:12:35.854Z"
   },
   {
    "duration": 84,
    "start_time": "2022-03-10T10:12:54.367Z"
   },
   {
    "duration": 3260,
    "start_time": "2022-03-10T10:13:59.918Z"
   },
   {
    "duration": 3063,
    "start_time": "2022-03-10T10:15:20.885Z"
   },
   {
    "duration": 7,
    "start_time": "2022-03-10T10:16:03.181Z"
   },
   {
    "duration": 3242,
    "start_time": "2022-03-10T10:16:27.693Z"
   },
   {
    "duration": 3356,
    "start_time": "2022-03-10T10:17:25.221Z"
   },
   {
    "duration": 3138,
    "start_time": "2022-03-10T10:17:56.276Z"
   },
   {
    "duration": 3068,
    "start_time": "2022-03-10T10:18:18.084Z"
   },
   {
    "duration": 3218,
    "start_time": "2022-03-10T10:19:30.595Z"
   },
   {
    "duration": 3144,
    "start_time": "2022-03-10T10:20:36.778Z"
   },
   {
    "duration": 3040,
    "start_time": "2022-03-10T10:21:16.849Z"
   },
   {
    "duration": 3311,
    "start_time": "2022-03-10T10:23:34.560Z"
   },
   {
    "duration": 3175,
    "start_time": "2022-03-10T10:25:39.333Z"
   },
   {
    "duration": 3321,
    "start_time": "2022-03-10T10:26:29.557Z"
   },
   {
    "duration": 3283,
    "start_time": "2022-03-10T10:27:59.723Z"
   },
   {
    "duration": 685,
    "start_time": "2022-03-10T12:12:48.374Z"
   },
   {
    "duration": 264,
    "start_time": "2022-03-10T12:14:37.413Z"
   },
   {
    "duration": 322,
    "start_time": "2022-03-10T12:27:42.724Z"
   },
   {
    "duration": 4,
    "start_time": "2022-03-10T12:28:39.984Z"
   },
   {
    "duration": 8,
    "start_time": "2022-03-10T12:28:40.221Z"
   },
   {
    "duration": 28,
    "start_time": "2022-03-10T12:28:40.452Z"
   },
   {
    "duration": 14,
    "start_time": "2022-03-10T12:28:40.784Z"
   },
   {
    "duration": 28,
    "start_time": "2022-03-10T12:28:43.102Z"
   },
   {
    "duration": 14,
    "start_time": "2022-03-10T12:28:44.166Z"
   },
   {
    "duration": 33,
    "start_time": "2022-03-10T12:28:45.356Z"
   },
   {
    "duration": 304,
    "start_time": "2022-03-10T12:28:46.238Z"
   },
   {
    "duration": 4,
    "start_time": "2022-03-10T12:31:38.746Z"
   },
   {
    "duration": 160,
    "start_time": "2022-03-10T12:31:45.987Z"
   },
   {
    "duration": 152,
    "start_time": "2022-03-10T12:32:11.400Z"
   },
   {
    "duration": 49,
    "start_time": "2022-03-10T12:34:08.368Z"
   },
   {
    "duration": 106,
    "start_time": "2022-03-10T12:34:51.854Z"
   },
   {
    "duration": 86,
    "start_time": "2022-03-10T12:35:00.847Z"
   },
   {
    "duration": 69,
    "start_time": "2022-03-10T12:35:06.303Z"
   },
   {
    "duration": 70,
    "start_time": "2022-03-10T12:35:12.014Z"
   },
   {
    "duration": 67,
    "start_time": "2022-03-10T12:35:32.718Z"
   },
   {
    "duration": 547,
    "start_time": "2022-03-10T12:35:49.654Z"
   },
   {
    "duration": 479,
    "start_time": "2022-03-10T12:36:18.518Z"
   },
   {
    "duration": 299,
    "start_time": "2022-03-10T12:38:14.605Z"
   },
   {
    "duration": 48,
    "start_time": "2022-03-10T12:38:32.901Z"
   },
   {
    "duration": 16,
    "start_time": "2022-03-10T12:40:10.669Z"
   },
   {
    "duration": 32,
    "start_time": "2022-03-10T12:40:17.109Z"
   },
   {
    "duration": 34,
    "start_time": "2022-03-10T12:40:51.213Z"
   },
   {
    "duration": 34,
    "start_time": "2022-03-10T12:41:10.357Z"
   },
   {
    "duration": 276,
    "start_time": "2022-03-10T12:41:32.789Z"
   },
   {
    "duration": 298,
    "start_time": "2022-03-10T12:44:27.755Z"
   },
   {
    "duration": 281,
    "start_time": "2022-03-10T12:45:11.939Z"
   },
   {
    "duration": 4,
    "start_time": "2022-03-10T12:45:48.786Z"
   },
   {
    "duration": 13,
    "start_time": "2022-03-10T12:45:59.347Z"
   },
   {
    "duration": 13,
    "start_time": "2022-03-10T12:46:07.027Z"
   },
   {
    "duration": 16,
    "start_time": "2022-03-10T12:46:31.626Z"
   },
   {
    "duration": 47,
    "start_time": "2022-03-10T12:46:38.322Z"
   },
   {
    "duration": 45,
    "start_time": "2022-03-10T12:46:48.195Z"
   },
   {
    "duration": 50,
    "start_time": "2022-03-10T12:47:26.074Z"
   },
   {
    "duration": 82,
    "start_time": "2022-03-10T12:54:53.173Z"
   },
   {
    "duration": 708,
    "start_time": "2022-03-10T13:02:00.505Z"
   },
   {
    "duration": 666,
    "start_time": "2022-03-10T13:02:56.170Z"
   },
   {
    "duration": 88,
    "start_time": "2022-03-10T13:03:36.050Z"
   },
   {
    "duration": 261,
    "start_time": "2022-03-10T13:06:23.215Z"
   },
   {
    "duration": 268,
    "start_time": "2022-03-10T13:06:48.631Z"
   },
   {
    "duration": 92,
    "start_time": "2022-03-10T13:10:49.084Z"
   },
   {
    "duration": 128,
    "start_time": "2022-03-10T14:45:29.012Z"
   },
   {
    "duration": 251,
    "start_time": "2022-03-10T14:45:53.908Z"
   },
   {
    "duration": 1051933,
    "start_time": "2022-03-10T14:49:58.193Z"
   },
   {
    "duration": 16,
    "start_time": "2022-03-10T15:32:13.972Z"
   },
   {
    "duration": 121,
    "start_time": "2022-03-10T15:33:30.300Z"
   },
   {
    "duration": 274,
    "start_time": "2022-03-10T15:51:08.270Z"
   },
   {
    "duration": 126,
    "start_time": "2022-03-10T15:51:53.509Z"
   },
   {
    "duration": 324,
    "start_time": "2022-03-10T15:52:00.158Z"
   },
   {
    "duration": 4,
    "start_time": "2022-03-10T15:52:29.341Z"
   },
   {
    "duration": 8,
    "start_time": "2022-03-10T15:52:34.133Z"
   },
   {
    "duration": 19,
    "start_time": "2022-03-10T15:55:33.101Z"
   },
   {
    "duration": 15,
    "start_time": "2022-03-10T15:55:59.004Z"
   },
   {
    "duration": 17,
    "start_time": "2022-03-10T15:56:32.796Z"
   },
   {
    "duration": 10,
    "start_time": "2022-03-10T15:57:43.020Z"
   },
   {
    "duration": 10,
    "start_time": "2022-03-10T15:57:48.044Z"
   },
   {
    "duration": 127,
    "start_time": "2022-03-10T15:57:54.924Z"
   },
   {
    "duration": 9,
    "start_time": "2022-03-10T15:57:57.126Z"
   },
   {
    "duration": 16,
    "start_time": "2022-03-10T15:57:59.547Z"
   },
   {
    "duration": 16,
    "start_time": "2022-03-10T15:59:23.739Z"
   },
   {
    "duration": 16,
    "start_time": "2022-03-10T15:59:27.940Z"
   },
   {
    "duration": 18,
    "start_time": "2022-03-10T15:59:35.083Z"
   },
   {
    "duration": 19,
    "start_time": "2022-03-10T15:59:41.459Z"
   },
   {
    "duration": 15,
    "start_time": "2022-03-10T15:59:50.699Z"
   },
   {
    "duration": 15,
    "start_time": "2022-03-10T15:59:55.524Z"
   },
   {
    "duration": 264,
    "start_time": "2022-03-10T16:04:06.146Z"
   },
   {
    "duration": 16,
    "start_time": "2022-03-10T16:07:41.521Z"
   },
   {
    "duration": 17,
    "start_time": "2022-03-10T16:14:31.559Z"
   },
   {
    "duration": 12,
    "start_time": "2022-03-10T16:16:51.925Z"
   },
   {
    "duration": 7,
    "start_time": "2022-03-10T16:19:15.701Z"
   },
   {
    "duration": 89,
    "start_time": "2022-03-10T16:30:08.722Z"
   },
   {
    "duration": 127,
    "start_time": "2022-03-10T16:42:21.218Z"
   },
   {
    "duration": 247,
    "start_time": "2022-03-10T16:42:47.098Z"
   },
   {
    "duration": 122,
    "start_time": "2022-03-10T16:44:40.424Z"
   },
   {
    "duration": 268,
    "start_time": "2022-03-10T16:45:07.894Z"
   },
   {
    "duration": 34,
    "start_time": "2022-03-10T16:45:23.129Z"
   },
   {
    "duration": 33,
    "start_time": "2022-03-10T16:45:48.992Z"
   },
   {
    "duration": 21,
    "start_time": "2022-03-10T16:46:24.057Z"
   },
   {
    "duration": 16,
    "start_time": "2022-03-10T16:46:38.441Z"
   },
   {
    "duration": 276,
    "start_time": "2022-03-10T17:56:39.145Z"
   },
   {
    "duration": 5,
    "start_time": "2022-03-10T17:56:45.864Z"
   },
   {
    "duration": 4,
    "start_time": "2022-03-10T17:59:11.334Z"
   },
   {
    "duration": 4,
    "start_time": "2022-03-10T17:59:35.901Z"
   },
   {
    "duration": 86,
    "start_time": "2022-03-10T18:01:22.020Z"
   },
   {
    "duration": 79,
    "start_time": "2022-03-10T18:14:03.297Z"
   },
   {
    "duration": 91,
    "start_time": "2022-03-10T18:25:32.380Z"
   },
   {
    "duration": 280,
    "start_time": "2022-03-10T18:25:46.381Z"
   },
   {
    "duration": 4,
    "start_time": "2022-03-10T18:25:55.964Z"
   },
   {
    "duration": 265,
    "start_time": "2022-03-10T18:26:17.772Z"
   },
   {
    "duration": 256,
    "start_time": "2022-03-10T18:26:37.036Z"
   },
   {
    "duration": 6,
    "start_time": "2022-03-10T18:26:48.541Z"
   },
   {
    "duration": 73,
    "start_time": "2022-03-11T06:34:17.200Z"
   },
   {
    "duration": 2071,
    "start_time": "2022-04-01T18:40:40.292Z"
   }
  ],
  "kernelspec": {
   "display_name": "Python 3",
   "language": "python",
   "name": "python3"
  },
  "language_info": {
   "codemirror_mode": {
    "name": "ipython",
    "version": 3
   },
   "file_extension": ".py",
   "mimetype": "text/x-python",
   "name": "python",
   "nbconvert_exporter": "python",
   "pygments_lexer": "ipython3",
   "version": "3.8.8"
  },
  "toc": {
   "base_numbering": 1,
   "nav_menu": {},
   "number_sections": true,
   "sideBar": true,
   "skip_h1_title": true,
   "title_cell": "Table of Contents",
   "title_sidebar": "Contents",
   "toc_cell": false,
   "toc_position": {},
   "toc_section_display": true,
   "toc_window_display": false
  }
 },
 "nbformat": 4,
 "nbformat_minor": 2
}
